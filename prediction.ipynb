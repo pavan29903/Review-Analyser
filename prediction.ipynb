{
 "cells": [
  {
   "cell_type": "code",
   "execution_count": 134,
   "id": "7129ccd4",
   "metadata": {},
   "outputs": [],
   "source": [
    "import numpy as npk\n",
    "import tensorflow as tf\n",
    "from tensorflow.keras.models import load_model\n",
    "from tensorflow.keras.preprocessing import sequence\n",
    "from tensorflow.keras.datasets import imdb"
   ]
  },
  {
   "cell_type": "code",
   "execution_count": 135,
   "id": "2a07f97e",
   "metadata": {},
   "outputs": [],
   "source": [
    "word_index = imdb.get_word_index()\n",
    "reversed_word_index = {value:key for key,value in word_index.items()}"
   ]
  },
  {
   "cell_type": "code",
   "execution_count": 136,
   "id": "f5ae24e1",
   "metadata": {},
   "outputs": [
    {
     "name": "stderr",
     "output_type": "stream",
     "text": [
      "WARNING:absl:Compiled the loaded model, but the compiled metrics have yet to be built. `model.compile_metrics` will be empty until you train or evaluate the model.\n"
     ]
    }
   ],
   "source": [
    "model = load_model('simpleRnn_model.h5')"
   ]
  },
  {
   "cell_type": "code",
   "execution_count": 137,
   "id": "eaf7019e",
   "metadata": {},
   "outputs": [],
   "source": [
    "def decode_review(encoded_review):\n",
    "    return ' '.join([reversed_word_index.get(i-3,'?') for i in encoded_review])\n",
    "\n",
    "def preprocess_text(text):\n",
    "    words = text.lower().split()\n",
    "    encoded_review = [word_index.get(word , 2) + 3 for word in words]\n",
    "    padded_review = sequence.pad_sequences([encoded_review],maxlen = 500)\n",
    "    return padded_review\n"
   ]
  },
  {
   "cell_type": "code",
   "execution_count": 138,
   "id": "aebf17af",
   "metadata": {},
   "outputs": [],
   "source": [
    "def predict_sentiment(text):\n",
    "    preprocessed_input = preprocess_text(text)\n",
    "\n",
    "    prediction = model.predict(preprocessed_input)\n",
    "\n",
    "    sentiment  = \"positive\" if prediction[0][0]>0.5 else \"negative\"\n",
    "\n",
    "    return sentiment, prediction[0][0]"
   ]
  },
  {
   "cell_type": "code",
   "execution_count": 139,
   "id": "f9abff51",
   "metadata": {},
   "outputs": [
    {
     "name": "stdout",
     "output_type": "stream",
     "text": [
      "\u001b[1m1/1\u001b[0m \u001b[32m━━━━━━━━━━━━━━━━━━━━\u001b[0m\u001b[37m\u001b[0m \u001b[1m0s\u001b[0m 83ms/step\n",
      "Sentiment: positive, Score: 1.0000\n"
     ]
    }
   ],
   "source": [
    "example_text = \"this movie is very good\"\n",
    "sentiment , score  = predict_sentiment(example_text)\n",
    "print(f\"Sentiment: {sentiment}, Score: {score:.4f}\")"
   ]
  },
  {
   "cell_type": "code",
   "execution_count": null,
   "id": "36ff3fc4",
   "metadata": {},
   "outputs": [],
   "source": []
  },
  {
   "cell_type": "code",
   "execution_count": null,
   "id": "49ffda1f",
   "metadata": {},
   "outputs": [],
   "source": []
  }
 ],
 "metadata": {
  "kernelspec": {
   "display_name": "myenv",
   "language": "python",
   "name": "python3"
  },
  "language_info": {
   "codemirror_mode": {
    "name": "ipython",
    "version": 3
   },
   "file_extension": ".py",
   "mimetype": "text/x-python",
   "name": "python",
   "nbconvert_exporter": "python",
   "pygments_lexer": "ipython3",
   "version": "3.11.8"
  }
 },
 "nbformat": 4,
 "nbformat_minor": 5
}
